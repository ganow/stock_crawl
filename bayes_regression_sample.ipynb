{
 "metadata": {
  "name": ""
 },
 "nbformat": 3,
 "nbformat_minor": 0,
 "worksheets": [
  {
   "cells": [
    {
     "cell_type": "code",
     "collapsed": false,
     "input": [
      "from sklearn import linear_model"
     ],
     "language": "python",
     "metadata": {},
     "outputs": [],
     "prompt_number": 1
    },
    {
     "cell_type": "code",
     "collapsed": false,
     "input": [
      "X = [[0., 0.], [1., 1.], [2., 2.], [3., 3.]]\n",
      "Y = [0., 1., 2., 3.]"
     ],
     "language": "python",
     "metadata": {},
     "outputs": [],
     "prompt_number": 2
    },
    {
     "cell_type": "code",
     "collapsed": false,
     "input": [
      "clf = linear_model.BayesianRidge()\n",
      "clf.fit(X,Y)"
     ],
     "language": "python",
     "metadata": {},
     "outputs": [
      {
       "metadata": {},
       "output_type": "pyout",
       "prompt_number": 3,
       "text": [
        "BayesianRidge(alpha_1=1e-06, alpha_2=1e-06, compute_score=False, copy_X=True,\n",
        "       fit_intercept=True, lambda_1=1e-06, lambda_2=1e-06, n_iter=300,\n",
        "       normalize=False, tol=0.001, verbose=False)"
       ]
      }
     ],
     "prompt_number": 3
    },
    {
     "cell_type": "code",
     "collapsed": false,
     "input": [
      "clf.predict([[1, 0.]])"
     ],
     "language": "python",
     "metadata": {},
     "outputs": [
      {
       "metadata": {},
       "output_type": "pyout",
       "prompt_number": 4,
       "text": [
        "array([ 0.50000013])"
       ]
      }
     ],
     "prompt_number": 4
    },
    {
     "cell_type": "code",
     "collapsed": false,
     "input": [
      "X2 = [[4., 4.]]\n",
      "Y2 = [0.]"
     ],
     "language": "python",
     "metadata": {},
     "outputs": [],
     "prompt_number": 5
    },
    {
     "cell_type": "code",
     "collapsed": false,
     "input": [
      "clf.fit(X2,Y2)"
     ],
     "language": "python",
     "metadata": {},
     "outputs": [
      {
       "metadata": {},
       "output_type": "pyout",
       "prompt_number": 16,
       "text": [
        "BayesianRidge(alpha_1=1e-06, alpha_2=1e-06, compute_score=False, copy_X=True,\n",
        "       fit_intercept=True, lambda_1=1e-06, lambda_2=1e-06, n_iter=300,\n",
        "       normalize=False, tol=0.001, verbose=False)"
       ]
      }
     ],
     "prompt_number": 16
    },
    {
     "cell_type": "code",
     "collapsed": false,
     "input": [
      "clf.predict([[3, 3.]])"
     ],
     "language": "python",
     "metadata": {},
     "outputs": [
      {
       "metadata": {},
       "output_type": "pyout",
       "prompt_number": 19,
       "text": [
        "array([ 0.])"
       ]
      }
     ],
     "prompt_number": 19
    },
    {
     "cell_type": "markdown",
     "metadata": {},
     "source": [
      "# \u3053\u3063\u304b\u3089\u30b5\u30f3\u30d7\u30eb"
     ]
    },
    {
     "cell_type": "code",
     "collapsed": false,
     "input": [
      "import numpy as np\n",
      "import pylab as pl\n",
      "from scipy import stats\n",
      "\n",
      "from sklearn.linear_model import BayesianRidge, LinearRegression"
     ],
     "language": "python",
     "metadata": {},
     "outputs": [],
     "prompt_number": 2
    },
    {
     "cell_type": "code",
     "collapsed": false,
     "input": [
      "np.random.seed(0)\n",
      "n_samples, n_features = 50, 100\n",
      "X = np.random.randn(n_samples, n_features) # create gaussian data\n",
      "lambda_ = 4.\n",
      "w = np.zeros(n_features)\n",
      "relevant_features = np.random.randint(0, n_features, 15)\n",
      "for i in relevant_features:\n",
      "    w[i] = stats.norm.rvs(loc=0, scale=1. / np.sqrt(lambda_))\n",
      "alpha_  = 50.\n",
      "noise = stats.norm.rvs(loc=0, scale=1. / np.sqrt(alpha_), size=n_samples)\n",
      "y = np.dot(X, w) + noise"
     ],
     "language": "python",
     "metadata": {},
     "outputs": [],
     "prompt_number": 82
    },
    {
     "cell_type": "code",
     "collapsed": false,
     "input": [
      "clf = BayesianRidge(compute_score=True)"
     ],
     "language": "python",
     "metadata": {},
     "outputs": [],
     "prompt_number": 83
    },
    {
     "cell_type": "code",
     "collapsed": false,
     "input": [
      "clf.fit(X,y)"
     ],
     "language": "python",
     "metadata": {},
     "outputs": [
      {
       "metadata": {},
       "output_type": "pyout",
       "prompt_number": 84,
       "text": [
        "BayesianRidge(alpha_1=1e-06, alpha_2=1e-06, compute_score=True, copy_X=True,\n",
        "       fit_intercept=True, lambda_1=1e-06, lambda_2=1e-06, n_iter=300,\n",
        "       normalize=False, tol=0.001, verbose=False)"
       ]
      }
     ],
     "prompt_number": 84
    },
    {
     "cell_type": "code",
     "collapsed": false,
     "input": [
      "ols = LinearRegression()"
     ],
     "language": "python",
     "metadata": {},
     "outputs": [],
     "prompt_number": 85
    },
    {
     "cell_type": "code",
     "collapsed": false,
     "input": [
      "ols.fit(X,y)"
     ],
     "language": "python",
     "metadata": {},
     "outputs": [
      {
       "metadata": {},
       "output_type": "pyout",
       "prompt_number": 86,
       "text": [
        "LinearRegression(copy_X=True, fit_intercept=True, normalize=False)"
       ]
      }
     ],
     "prompt_number": 86
    },
    {
     "cell_type": "code",
     "collapsed": false,
     "input": [
      "pl.figure(figsize=(6, 5))\n",
      "pl.title(\"Weights of the model\")\n",
      "pl.plot(clf.coef_, 'b-', label=\"Bayesian Ridge estimate\", lw=3)\n",
      "pl.plot(w, 'g-', label=\"Ground truth\", lw=2)\n",
      "pl.plot(ols.coef_, 'r--', label=\"OLS estimate\")\n",
      "pl.xlabel(\"Features\")\n",
      "pl.ylabel(\"Values of the weights\")\n",
      "pl.legend(loc=\"best\", prop=dict(size=12))\n",
      "\n",
      "pl.figure(figsize=(6, 5))\n",
      "pl.title(\"Histogram of the weights\")\n",
      "pl.hist(clf.coef_, bins=n_features, log=True)\n",
      "pl.plot(clf.coef_[relevant_features], 5 * np.ones(len(relevant_features)),\n",
      "        'ro', label=\"Relevant features\")\n",
      "pl.ylabel(\"Features\")\n",
      "pl.xlabel(\"Values of the weights\")\n",
      "pl.legend(loc=\"lower left\")\n",
      "\n",
      "pl.figure(figsize=(6, 5))\n",
      "pl.title(\"Marginal log-likelihood\")\n",
      "pl.plot(clf.scores_)\n",
      "pl.ylabel(\"Score\")\n",
      "pl.xlabel(\"Iterations\")"
     ],
     "language": "python",
     "metadata": {},
     "outputs": [
      {
       "metadata": {},
       "output_type": "pyout",
       "prompt_number": 87,
       "text": [
        "<matplotlib.text.Text at 0x1104fc110>"
       ]
      },
      {
       "metadata": {},
       "output_type": "display_data",
       "png": "[encoded data removed]",
       "text": [
        "<matplotlib.figure.Figure at 0x1119f7190>"
       ]
      },
      {
       "metadata": {},
       "output_type": "display_data",
       "png": "[encoded data removed]",
       "text": [
        "<matplotlib.figure.Figure at 0x111990450>"
       ]
      },
      {
       "metadata": {},
       "output_type": "display_data",
       "png": "[encoded data removed]",
       "text": [
        "<matplotlib.figure.Figure at 0x1105d06d0>"
       ]
      }
     ],
     "prompt_number": 87
    },
    {
     "cell_type": "code",
     "collapsed": false,
     "input": [
      "X.shape"
     ],
     "language": "python",
     "metadata": {},
     "outputs": [
      {
       "metadata": {},
       "output_type": "pyout",
       "prompt_number": 88,
       "text": [
        "(50, 100)"
       ]
      }
     ],
     "prompt_number": 88
    },
    {
     "cell_type": "code",
     "collapsed": false,
     "input": [
      "y.shape"
     ],
     "language": "python",
     "metadata": {},
     "outputs": [
      {
       "metadata": {},
       "output_type": "pyout",
       "prompt_number": 91,
       "text": [
        "(50,)"
       ]
      }
     ],
     "prompt_number": 91
    },
    {
     "cell_type": "code",
     "collapsed": false,
     "input": [
      "clf.coef_"
     ],
     "language": "python",
     "metadata": {},
     "outputs": [
      {
       "metadata": {},
       "output_type": "pyout",
       "prompt_number": 90,
       "text": [
        "array([  2.31994928e-01,   1.41389986e-01,  -7.26105410e-03,\n",
        "         8.86956689e-02,  -5.16059479e-02,   5.30629381e-02,\n",
        "         2.15460710e-01,  -1.63049029e-01,  -5.67263946e-02,\n",
        "         1.28276500e-01,  -2.68714834e-02,   1.64272518e-01,\n",
        "        -6.46938704e-02,   8.09233071e-03,  -1.01195305e-02,\n",
        "         5.88082386e-02,  -2.29352154e-01,   1.10036651e-01,\n",
        "         6.13406846e-01,  -4.30973634e-02,  -2.13474818e-01,\n",
        "         7.54460820e-02,  -1.90593983e-01,   7.66973414e-02,\n",
        "        -9.22285900e-02,   1.11730757e-02,  -2.67368686e-02,\n",
        "        -1.32784770e-01,  -1.47283559e-01,   2.95443546e-02,\n",
        "        -7.04876196e-02,   9.64146881e-02,  -1.61079450e-01,\n",
        "        -3.15169451e-02,   2.31110089e-02,   2.57540230e-02,\n",
        "         2.42440506e-02,   1.31122111e-02,   9.34445765e-02,\n",
        "         2.49786411e-02,  -4.84403667e-02,   8.97214689e-02,\n",
        "         3.75419342e-02,   7.48740270e-02,  -3.01967407e-02,\n",
        "        -2.89973462e-02,   3.64951181e-01,   1.15140969e-01,\n",
        "        -5.80500012e-02,  -8.03225859e-02,   9.36144779e-02,\n",
        "        -7.81098897e-02,  -4.11682829e-02,   2.41254796e-03,\n",
        "         2.08378778e-02,   1.98047158e-01,   1.66260552e-01,\n",
        "        -7.56728400e-02,  -5.19912933e-02,   3.42447889e-02,\n",
        "        -4.72640959e-02,  -1.27142723e-01,  -1.62671308e-01,\n",
        "         9.38071210e-02,  -5.69733032e-01,   3.89255681e-02,\n",
        "         2.63080073e-02,   5.53326856e-02,  -3.32053960e-03,\n",
        "         6.06845858e-02,  -1.18425077e-01,  -1.97587108e-01,\n",
        "         7.59250532e-02,   1.65622616e-01,  -9.72460539e-02,\n",
        "        -6.45576308e-02,  -9.90748674e-02,   2.20823131e-01,\n",
        "        -1.47631084e-01,  -5.46642049e-02,  -3.71972045e-02,\n",
        "         1.64337161e-01,   3.35580346e-01,   3.18068677e-04,\n",
        "         3.57986643e-01,  -2.50406266e-02,  -1.23150973e-02,\n",
        "        -1.14870409e-01,  -2.30109181e-01,   1.88658461e-01,\n",
        "         1.96474699e-02,  -1.63639975e-01,   7.29869592e-02,\n",
        "        -9.13113924e-03,   6.85586404e-02,   3.19251228e-02,\n",
        "         4.74763482e-02,  -1.33620668e-01,   3.60567142e-02,\n",
        "        -9.93278314e-02])"
       ]
      }
     ],
     "prompt_number": 90
    },
    {
     "cell_type": "code",
     "collapsed": false,
     "input": [
      "clf.predict(np.random.randn(n_samples))"
     ],
     "language": "python",
     "metadata": {},
     "outputs": [
      {
       "metadata": {},
       "output_type": "pyout",
       "prompt_number": 33,
       "text": [
        "-0.60533474563142731"
       ]
      }
     ],
     "prompt_number": 33
    },
    {
     "cell_type": "code",
     "collapsed": false,
     "input": [
      "clf.get_params()"
     ],
     "language": "python",
     "metadata": {},
     "outputs": [
      {
       "metadata": {},
       "output_type": "pyout",
       "prompt_number": 41,
       "text": [
        "{'alpha_1': 1e-06,\n",
        " 'alpha_2': 1e-06,\n",
        " 'compute_score': True,\n",
        " 'copy_X': True,\n",
        " 'fit_intercept': True,\n",
        " 'lambda_1': 1e-06,\n",
        " 'lambda_2': 1e-06,\n",
        " 'n_iter': 300,\n",
        " 'normalize': False,\n",
        " 'tol': 0.001,\n",
        " 'verbose': False}"
       ]
      }
     ],
     "prompt_number": 41
    },
    {
     "cell_type": "code",
     "collapsed": false,
     "input": [
      "clf.score(np.random.randn(n_samples, n_features), np.random.randn(n_samples))"
     ],
     "language": "python",
     "metadata": {},
     "outputs": [
      {
       "metadata": {},
       "output_type": "pyout",
       "prompt_number": 50,
       "text": [
        "-1.7936463610778874"
       ]
      }
     ],
     "prompt_number": 50
    },
    {
     "cell_type": "code",
     "collapsed": false,
     "input": [
      "X[0,:].size"
     ],
     "language": "python",
     "metadata": {},
     "outputs": [
      {
       "metadata": {},
       "output_type": "pyout",
       "prompt_number": 95,
       "text": [
        "100"
       ]
      }
     ],
     "prompt_number": 95
    },
    {
     "cell_type": "code",
     "collapsed": false,
     "input": [],
     "language": "python",
     "metadata": {},
     "outputs": []
    }
   ],
   "metadata": {}
  }
 ]
}