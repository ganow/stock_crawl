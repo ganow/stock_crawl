{
 "metadata": {
  "name": ""
 },
 "nbformat": 3,
 "nbformat_minor": 0,
 "worksheets": [
  {
   "cells": [
    {
     "cell_type": "code",
     "collapsed": false,
     "input": [
      "from model import (\n",
      "    init,\n",
      "    Brand,\n",
      "    MarketType,\n",
      "    IndustoryType,\n",
      "    DayChart,\n",
      ")\n",
      "from model import database_proxy as db"
     ],
     "language": "python",
     "metadata": {},
     "outputs": [],
     "prompt_number": 15
    },
    {
     "cell_type": "code",
     "collapsed": false,
     "input": [
      "init(\n",
      "    MODE = 'MYSQL',\n",
      "    DROP_DB = False,\n",
      "    CREATE_DB = False\n",
      ")\n",
      "db.connect()"
     ],
     "language": "python",
     "metadata": {},
     "outputs": [],
     "prompt_number": 16
    },
    {
     "cell_type": "code",
     "collapsed": false,
     "input": [
      "DayChart.select().count()"
     ],
     "language": "python",
     "metadata": {},
     "outputs": [
      {
       "metadata": {},
       "output_type": "pyout",
       "prompt_number": 10,
       "text": [
        "1530275L"
       ]
      }
     ],
     "prompt_number": 10
    },
    {
     "cell_type": "code",
     "collapsed": false,
     "input": [
      "tmp = DayChart.select().join(Brand).where(Brand.id == 1)"
     ],
     "language": "python",
     "metadata": {},
     "outputs": [],
     "prompt_number": 34
    },
    {
     "cell_type": "code",
     "collapsed": false,
     "input": [
      "tmp.count()"
     ],
     "language": "python",
     "metadata": {},
     "outputs": [
      {
       "metadata": {},
       "output_type": "pyout",
       "prompt_number": 36,
       "text": [
        "367L"
       ]
      }
     ],
     "prompt_number": 36
    },
    {
     "cell_type": "code",
     "collapsed": false,
     "input": [
      "from datetime import date"
     ],
     "language": "python",
     "metadata": {},
     "outputs": [],
     "prompt_number": 37
    },
    {
     "cell_type": "code",
     "collapsed": false,
     "input": [
      "tmp2 = tmp.where(DayChart.date > date(2013, 6, 1))"
     ],
     "language": "python",
     "metadata": {},
     "outputs": [],
     "prompt_number": 41
    },
    {
     "cell_type": "code",
     "collapsed": false,
     "input": [
      "tmp2.count()"
     ],
     "language": "python",
     "metadata": {},
     "outputs": [
      {
       "metadata": {},
       "output_type": "pyout",
       "prompt_number": 134,
       "text": [
        "215L"
       ]
      }
     ],
     "prompt_number": 134
    },
    {
     "cell_type": "code",
     "collapsed": false,
     "input": [
      "for t in tmp2:\n",
      "    print t.date"
     ],
     "language": "python",
     "metadata": {},
     "outputs": [
      {
       "output_type": "stream",
       "stream": "stdout",
       "text": [
        "2013-06-02\n",
        "2013-06-03\n",
        "2013-06-04\n",
        "2013-06-05\n",
        "2013-06-06\n",
        "2013-06-07\n",
        "2013-06-08\n",
        "2013-06-09\n",
        "2013-06-10\n",
        "2013-06-11\n",
        "2013-06-12\n",
        "2013-06-13\n",
        "2013-06-14\n",
        "2013-06-15\n",
        "2013-06-16\n",
        "2013-06-17\n",
        "2013-06-18\n",
        "2013-06-19\n",
        "2013-06-20\n",
        "2013-06-21\n",
        "2013-06-22\n",
        "2013-06-23\n",
        "2013-06-24\n",
        "2013-06-25\n",
        "2013-06-26\n",
        "2013-06-27\n",
        "2013-06-28\n",
        "2013-06-29\n",
        "2013-06-30\n",
        "2013-07-01\n",
        "2013-07-02\n",
        "2013-07-03\n",
        "2013-07-04\n",
        "2013-07-05\n",
        "2013-07-06\n",
        "2013-07-07\n",
        "2013-07-08\n",
        "2013-07-09\n",
        "2013-07-10\n",
        "2013-07-11\n",
        "2013-07-12\n",
        "2013-07-13\n",
        "2013-07-14\n",
        "2013-07-15\n",
        "2013-07-16\n",
        "2013-07-17\n",
        "2013-07-18\n",
        "2013-07-19\n",
        "2013-07-20\n",
        "2013-07-21\n",
        "2013-07-22\n",
        "2013-07-23\n",
        "2013-07-24\n",
        "2013-07-25\n",
        "2013-07-26\n",
        "2013-07-27\n",
        "2013-07-28\n",
        "2013-07-29\n",
        "2013-07-30\n",
        "2013-07-31\n",
        "2013-08-01\n",
        "2013-08-02\n",
        "2013-08-03\n",
        "2013-08-04\n",
        "2013-08-05\n",
        "2013-08-06\n",
        "2013-08-07\n",
        "2013-08-08\n",
        "2013-08-09\n",
        "2013-08-10\n",
        "2013-08-11\n",
        "2013-08-12\n",
        "2013-08-13\n",
        "2013-08-14\n",
        "2013-08-15\n",
        "2013-08-16\n",
        "2013-08-17\n",
        "2013-08-18\n",
        "2013-08-19\n",
        "2013-08-20\n",
        "2013-08-21\n",
        "2013-08-22\n",
        "2013-08-23\n",
        "2013-08-24\n",
        "2013-08-25\n",
        "2013-08-26\n",
        "2013-08-27\n",
        "2013-08-28\n",
        "2013-08-29\n",
        "2013-08-30\n",
        "2013-08-31\n",
        "2013-09-01\n",
        "2013-09-02\n",
        "2013-09-03\n",
        "2013-09-04\n",
        "2013-09-05\n",
        "2013-09-06\n",
        "2013-09-07\n",
        "2013-09-08\n",
        "2013-09-09\n",
        "2013-09-10\n",
        "2013-09-11\n",
        "2013-09-12\n",
        "2013-09-13\n",
        "2013-09-14\n",
        "2013-09-15\n",
        "2013-09-16\n",
        "2013-09-17\n",
        "2013-09-18\n",
        "2013-09-19\n",
        "2013-09-20\n",
        "2013-09-21\n",
        "2013-09-22\n",
        "2013-09-23\n",
        "2013-09-24\n",
        "2013-09-25\n",
        "2013-09-26\n",
        "2013-09-27\n",
        "2013-09-28\n",
        "2013-09-29\n",
        "2013-09-30\n",
        "2013-10-01\n",
        "2013-10-02\n",
        "2013-10-03\n",
        "2013-10-04\n",
        "2013-10-05\n",
        "2013-10-06\n",
        "2013-10-07\n",
        "2013-10-08\n",
        "2013-10-09\n",
        "2013-10-10\n",
        "2013-10-11\n",
        "2013-10-12\n",
        "2013-10-13\n",
        "2013-10-14\n",
        "2013-10-15\n",
        "2013-10-16\n",
        "2013-10-17\n",
        "2013-10-18\n",
        "2013-10-19\n",
        "2013-10-20\n",
        "2013-10-21\n",
        "2013-10-22\n",
        "2013-10-23\n",
        "2013-10-24\n",
        "2013-10-25\n",
        "2013-10-26\n",
        "2013-10-27\n",
        "2013-10-28\n",
        "2013-10-29\n",
        "2013-10-30\n",
        "2013-10-31\n",
        "2013-11-01\n",
        "2013-11-02\n",
        "2013-11-03\n",
        "2013-11-04\n",
        "2013-11-05\n",
        "2013-11-06\n",
        "2013-11-07\n",
        "2013-11-08\n",
        "2013-11-09\n",
        "2013-11-10\n",
        "2013-11-11\n",
        "2013-11-12\n",
        "2013-11-13\n",
        "2013-11-14\n",
        "2013-11-15\n",
        "2013-11-16\n",
        "2013-11-17\n",
        "2013-11-18\n",
        "2013-11-19\n",
        "2013-11-20\n",
        "2013-11-21\n",
        "2013-11-22\n",
        "2013-11-23\n",
        "2013-11-24\n",
        "2013-11-25\n",
        "2013-11-26\n",
        "2013-11-27\n",
        "2013-11-28\n",
        "2013-11-29\n",
        "2013-11-30\n",
        "2013-12-01\n",
        "2013-12-02\n",
        "2013-12-03\n",
        "2013-12-04\n",
        "2013-12-05\n",
        "2013-12-06\n",
        "2013-12-07\n",
        "2013-12-08\n",
        "2013-12-09\n",
        "2013-12-10\n",
        "2013-12-11\n",
        "2013-12-12\n",
        "2013-12-13\n",
        "2013-12-14\n",
        "2013-12-15\n",
        "2013-12-16\n",
        "2013-12-17\n",
        "2013-12-18\n",
        "2013-12-19\n",
        "2013-12-20\n",
        "2013-12-21\n",
        "2013-12-22\n",
        "2013-12-23\n",
        "2013-12-24\n",
        "2013-12-25\n",
        "2013-12-26\n",
        "2013-12-27\n",
        "2013-12-28\n",
        "2013-12-29\n",
        "2013-12-30\n",
        "2013-12-31\n",
        "2014-01-01\n",
        "2014-01-02\n"
       ]
      }
     ],
     "prompt_number": 43
    },
    {
     "cell_type": "code",
     "collapsed": false,
     "input": [
      "tmp3 = tmp2.where(DayChart.date.between(date(2013, 7, 1), date(2013, 8, 1)))"
     ],
     "language": "python",
     "metadata": {},
     "outputs": [],
     "prompt_number": 44
    },
    {
     "cell_type": "code",
     "collapsed": false,
     "input": [
      "for t in tmp3:\n",
      "    print t.date"
     ],
     "language": "python",
     "metadata": {},
     "outputs": [
      {
       "output_type": "stream",
       "stream": "stdout",
       "text": [
        "2013-07-01\n",
        "2013-07-02\n",
        "2013-07-03\n",
        "2013-07-04\n",
        "2013-07-05\n",
        "2013-07-06\n",
        "2013-07-07\n",
        "2013-07-08\n",
        "2013-07-09\n",
        "2013-07-10\n",
        "2013-07-11\n",
        "2013-07-12\n",
        "2013-07-13\n",
        "2013-07-14\n",
        "2013-07-15\n",
        "2013-07-16\n",
        "2013-07-17\n",
        "2013-07-18\n",
        "2013-07-19\n",
        "2013-07-20\n",
        "2013-07-21\n",
        "2013-07-22\n",
        "2013-07-23\n",
        "2013-07-24\n",
        "2013-07-25\n",
        "2013-07-26\n",
        "2013-07-27\n",
        "2013-07-28\n",
        "2013-07-29\n",
        "2013-07-30\n",
        "2013-07-31\n",
        "2013-08-01\n"
       ]
      }
     ],
     "prompt_number": 45
    },
    {
     "cell_type": "code",
     "collapsed": false,
     "input": [
      "b = Brand.select()[0]"
     ],
     "language": "python",
     "metadata": {},
     "outputs": [],
     "prompt_number": 48
    },
    {
     "cell_type": "code",
     "collapsed": false,
     "input": [
      "b.name"
     ],
     "language": "python",
     "metadata": {},
     "outputs": [
      {
       "metadata": {},
       "output_type": "pyout",
       "prompt_number": 49,
       "text": [
        "u'TOPIX'"
       ]
      }
     ],
     "prompt_number": 49
    },
    {
     "cell_type": "code",
     "collapsed": false,
     "input": [
      "tmp3 = DayChart.select().join(Brand).where(Brand.id == b.id)"
     ],
     "language": "python",
     "metadata": {},
     "outputs": [],
     "prompt_number": 59
    },
    {
     "cell_type": "code",
     "collapsed": false,
     "input": [
      "tmp3.count()"
     ],
     "language": "python",
     "metadata": {},
     "outputs": [
      {
       "metadata": {},
       "output_type": "pyout",
       "prompt_number": 60,
       "text": [
        "367L"
       ]
      }
     ],
     "prompt_number": 60
    },
    {
     "cell_type": "code",
     "collapsed": false,
     "input": [
      "g = Brand.get(Brand.name == u\"\u30ac\u30f3\u30db\u30fc\")"
     ],
     "language": "python",
     "metadata": {},
     "outputs": [],
     "prompt_number": 65
    },
    {
     "cell_type": "code",
     "collapsed": false,
     "input": [
      "print g.name"
     ],
     "language": "python",
     "metadata": {},
     "outputs": [
      {
       "output_type": "stream",
       "stream": "stdout",
       "text": [
        "\u30ac\u30f3\u30db\u30fc\n"
       ]
      }
     ],
     "prompt_number": 68
    },
    {
     "cell_type": "code",
     "collapsed": false,
     "input": [
      "s_date = date(2013, 1, 1)\n",
      "e_date = date(2013, 2, 1)\n",
      "ganho_data = DayChart.select().join(Brand).where(\n",
      "    (Brand.name == u\"\u30ac\u30f3\u30db\u30fc\") &\n",
      "    (DayChart.date.between(s_date, e_date)) )"
     ],
     "language": "python",
     "metadata": {},
     "outputs": [],
     "prompt_number": 72
    },
    {
     "cell_type": "code",
     "collapsed": false,
     "input": [
      "ganho_data.count()"
     ],
     "language": "python",
     "metadata": {},
     "outputs": [
      {
       "metadata": {},
       "output_type": "pyout",
       "prompt_number": 74,
       "text": [
        "32L"
       ]
      }
     ],
     "prompt_number": 74
    },
    {
     "cell_type": "code",
     "collapsed": false,
     "input": [
      "[g.max_value for g in ganho_data]"
     ],
     "language": "python",
     "metadata": {},
     "outputs": [
      {
       "metadata": {},
       "output_type": "pyout",
       "prompt_number": 76,
       "text": [
        "[774.0,\n",
        " 774.0,\n",
        " 774.0,\n",
        " 880000.0,\n",
        " 774.0,\n",
        " 774.0,\n",
        " 866000.0,\n",
        " 846000.0,\n",
        " 840000.0,\n",
        " 941000.0,\n",
        " 1083000.0,\n",
        " 774.0,\n",
        " 774.0,\n",
        " 774.0,\n",
        " 1295000.0,\n",
        " 1223000.0,\n",
        " 1181000.0,\n",
        " 1290000.0,\n",
        " 774.0,\n",
        " 774.0,\n",
        " 1496000.0,\n",
        " 1547000.0,\n",
        " 1515000.0,\n",
        " 1500000.0,\n",
        " 1698000.0,\n",
        " 774.0,\n",
        " 774.0,\n",
        " 1979000.0,\n",
        " 1900000.0,\n",
        " 1584000.0,\n",
        " 1605000.0,\n",
        " 1534000.0]"
       ]
      }
     ],
     "prompt_number": 76
    },
    {
     "cell_type": "code",
     "collapsed": false,
     "input": [
      "g.__getattribute__('max_value')"
     ],
     "language": "python",
     "metadata": {},
     "outputs": [
      {
       "metadata": {},
       "output_type": "pyout",
       "prompt_number": 85,
       "text": [
        "1534000.0"
       ]
      }
     ],
     "prompt_number": 85
    },
    {
     "cell_type": "code",
     "collapsed": false,
     "input": [
      "a= e_date - s_date"
     ],
     "language": "python",
     "metadata": {},
     "outputs": [],
     "prompt_number": 89
    },
    {
     "cell_type": "code",
     "collapsed": false,
     "input": [
      "a.days"
     ],
     "language": "python",
     "metadata": {},
     "outputs": [
      {
       "metadata": {},
       "output_type": "pyout",
       "prompt_number": 92,
       "text": [
        "31"
       ]
      }
     ],
     "prompt_number": 92
    },
    {
     "cell_type": "code",
     "collapsed": false,
     "input": [
      "for i in range(ganho_data.count()):\n",
      "    print ganho_data[i].date"
     ],
     "language": "python",
     "metadata": {},
     "outputs": [
      {
       "output_type": "stream",
       "stream": "stdout",
       "text": [
        "2013-01-01\n",
        "2013-01-02\n",
        "2013-01-03\n",
        "2013-01-04\n",
        "2013-01-05\n",
        "2013-01-06\n",
        "2013-01-07\n",
        "2013-01-08\n",
        "2013-01-09\n",
        "2013-01-10\n",
        "2013-01-11\n",
        "2013-01-12\n",
        "2013-01-13\n",
        "2013-01-14\n",
        "2013-01-15\n",
        "2013-01-16\n",
        "2013-01-17\n",
        "2013-01-18\n",
        "2013-01-19\n",
        "2013-01-20\n",
        "2013-01-21\n",
        "2013-01-22\n",
        "2013-01-23\n",
        "2013-01-24\n",
        "2013-01-25\n",
        "2013-01-26\n",
        "2013-01-27\n",
        "2013-01-28\n",
        "2013-01-29\n",
        "2013-01-30\n",
        "2013-01-31\n",
        "2013-02-01\n"
       ]
      }
     ],
     "prompt_number": 95
    },
    {
     "cell_type": "code",
     "collapsed": false,
     "input": [
      "ganho_data[0].date"
     ],
     "language": "python",
     "metadata": {},
     "outputs": [
      {
       "metadata": {},
       "output_type": "pyout",
       "prompt_number": 98,
       "text": [
        "datetime.date(2013, 1, 1)"
       ]
      }
     ],
     "prompt_number": 98
    },
    {
     "cell_type": "code",
     "collapsed": false,
     "input": [
      "a = ganho_data.where(DayChart.date == date(2013,1,2)).get()"
     ],
     "language": "python",
     "metadata": {},
     "outputs": [],
     "prompt_number": 105
    },
    {
     "cell_type": "code",
     "collapsed": false,
     "input": [
      "a.date"
     ],
     "language": "python",
     "metadata": {},
     "outputs": [
      {
       "metadata": {},
       "output_type": "pyout",
       "prompt_number": 106,
       "text": [
        "datetime.date(2013, 1, 2)"
       ]
      }
     ],
     "prompt_number": 106
    },
    {
     "cell_type": "code",
     "collapsed": false,
     "input": [
      "all_b = Brand.select()"
     ],
     "language": "python",
     "metadata": {},
     "outputs": [],
     "prompt_number": 107
    },
    {
     "cell_type": "code",
     "collapsed": false,
     "input": [
      "all_b[1:3]"
     ],
     "language": "python",
     "metadata": {},
     "outputs": [
      {
       "metadata": {},
       "output_type": "pyout",
       "prompt_number": 113,
       "text": [
        "[<model.Brand at 0x10cd0d810>, <model.Brand at 0x10cd0d610>]"
       ]
      }
     ],
     "prompt_number": 113
    },
    {
     "cell_type": "code",
     "collapsed": false,
     "input": [
      "a = DayChart.select().where(\n",
      "    ( DayChart.start_value >> None ) &\n",
      "    ( DayChart.end_value >> None ) &\n",
      "    ( DayChart.max_value >> None ) &\n",
      "    ( DayChart.min_value >> None ) )"
     ],
     "language": "python",
     "metadata": {},
     "outputs": [],
     "prompt_number": 132
    },
    {
     "cell_type": "code",
     "collapsed": false,
     "input": [
      "a.count()"
     ],
     "language": "python",
     "metadata": {},
     "outputs": [
      {
       "metadata": {},
       "output_type": "pyout",
       "prompt_number": 130,
       "text": [
        "170778L"
       ]
      }
     ],
     "prompt_number": 130
    },
    {
     "cell_type": "code",
     "collapsed": false,
     "input": [
      "a = DayChart.get(DayChart.id == 1423293)"
     ],
     "language": "python",
     "metadata": {},
     "outputs": [],
     "prompt_number": 119
    },
    {
     "cell_type": "code",
     "collapsed": false,
     "input": [
      "( ( a.start_value == None ) &\n",
      "  ( a.end_value == None ) &\n",
      "  ( a.max_value == None ) &\n",
      "  ( a.min_value == None ) )"
     ],
     "language": "python",
     "metadata": {},
     "outputs": [
      {
       "metadata": {},
       "output_type": "pyout",
       "prompt_number": 128,
       "text": [
        "True"
       ]
      }
     ],
     "prompt_number": 128
    },
    {
     "cell_type": "code",
     "collapsed": false,
     "input": [
      "a.execute()"
     ],
     "language": "python",
     "metadata": {},
     "outputs": [
      {
       "metadata": {},
       "output_type": "pyout",
       "prompt_number": 133,
       "text": [
        "<peewee.NaiveQueryResultWrapper at 0x10cd25e10>"
       ]
      }
     ],
     "prompt_number": 133
    },
    {
     "cell_type": "code",
     "collapsed": false,
     "input": [],
     "language": "python",
     "metadata": {},
     "outputs": []
    }
   ],
   "metadata": {}
  }
 ]
}